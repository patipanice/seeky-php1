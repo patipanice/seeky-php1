{
 "cells": [
  {
   "cell_type": "code",
   "execution_count": 46,
   "metadata": {},
   "outputs": [],
   "source": [
    "import numpy as np\n",
    "\n",
    "import matplotlib.pyplot as plt\n",
    "%matplotlib inline\n",
    "import operator\n",
    "import imageio\n",
    "import glob\n",
    "import os.path as path\n",
    "import cv2"
   ]
  },
  {
   "cell_type": "code",
   "execution_count": 47,
   "metadata": {},
   "outputs": [],
   "source": [
    "def LoR_create_Xb(X):\n",
    "    N = X.shape[0]\n",
    "    ones = np.ones([N, 1])\n",
    "    Xb = np.hstack([ones, X])\n",
    "    return Xb"
   ]
  },
  {
   "cell_type": "code",
   "execution_count": 48,
   "metadata": {},
   "outputs": [],
   "source": [
    "def create_onehot_target(label):\n",
    "    K = len(np.unique(label))\n",
    "    N = label.shape[0]\n",
    "    onehot = np.zeros([N, K])\n",
    "    for i in range(N):\n",
    "        onehot[i, label[i, 0]] = 1\n",
    "    return onehot"
   ]
  },
  {
   "cell_type": "code",
   "execution_count": 49,
   "metadata": {},
   "outputs": [],
   "source": [
    "def LoR_find_Yhat_mul_class(X, W):\n",
    "    Xb = LoR_create_Xb(X)\n",
    "    Z = np.dot(Xb, W)\n",
    "    Yhat = np.exp(Z)/np.exp(Z).sum(axis=1, keepdims = True)\n",
    "    return Yhat"
   ]
  },
  {
   "cell_type": "code",
   "execution_count": 50,
   "metadata": {},
   "outputs": [],
   "source": [
    "data = ['hat', 'headphone', 'laptop','bag','handbag','wallet','glasses','watch','input']"
   ]
  },
  {
   "cell_type": "code",
   "execution_count": 51,
   "metadata": {},
   "outputs": [],
   "source": [
    "#process ภาพ\n",
    "image_test = np.empty((0,32*32*3), int)\n",
    "label_test = np.empty((0,1), int)\n",
    "\n",
    "image_path = imageio.imread(\"data/pt/1_laptop.png\") # input image\n",
    "image = cv2.resize(image_path,(32,32))\n",
    "image = np.array(image)\n",
    "image = image.reshape(1, -1)\n",
    "image_test = np.vstack((image_test, image))"
   ]
  },
  {
   "cell_type": "code",
   "execution_count": 52,
   "metadata": {},
   "outputs": [],
   "source": [
    "X_Test = image_test/255"
   ]
  },
  {
   "cell_type": "code",
   "execution_count": 53,
   "metadata": {},
   "outputs": [],
   "source": [
    "\n",
    "W = np.load('weight.npy', allow_pickle=True)\n",
    "Yhat_Test = LoR_find_Yhat_mul_class(X_Test, W)\n"
   ]
  },
  {
   "cell_type": "code",
   "execution_count": 54,
   "metadata": {},
   "outputs": [
    {
     "name": "stdout",
     "output_type": "stream",
     "text": [
      "handbag\n"
     ]
    }
   ],
   "source": [
    "#result\n",
    "\n",
    "predicted = data[np.argmax(Yhat_Test, axis=1)[0]]\n",
    "\n",
    "print(predicted)"
   ]
  },
  {
   "cell_type": "code",
   "execution_count": null,
   "metadata": {},
   "outputs": [],
   "source": []
  }
 ],
 "metadata": {
  "kernelspec": {
   "display_name": "Python 3",
   "language": "python",
   "name": "python3"
  },
  "language_info": {
   "codemirror_mode": {
    "name": "ipython",
    "version": 3
   },
   "file_extension": ".py",
   "mimetype": "text/x-python",
   "name": "python",
   "nbconvert_exporter": "python",
   "pygments_lexer": "ipython3",
   "version": "3.7.4"
  }
 },
 "nbformat": 4,
 "nbformat_minor": 2
}
